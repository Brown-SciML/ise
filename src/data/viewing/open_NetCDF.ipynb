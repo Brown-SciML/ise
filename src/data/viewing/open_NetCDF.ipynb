{
 "cells": [
  {
   "cell_type": "code",
   "execution_count": null,
   "metadata": {},
   "outputs": [],
   "source": [
    "import xarray as xr\n",
    "import numpy as np\n",
    "import pandas as pd"
   ]
  },
  {
   "cell_type": "code",
   "execution_count": null,
   "metadata": {},
   "outputs": [],
   "source": [
    "fp = r\"/users/pvankatw/data/pvankatw/pvankatw-bfoxkemp/GHub-ISMIP6-Forcing/AIS/Ice_Shelf_Fracture/CNRM-CM6-1_ssp126/ice_shelf_collapse_mask_CNRM-CM6-1_ssp126_1995-2100_8km.nc\"\n",
    "xr.open_dataset(fp)"
   ]
  },
  {
   "cell_type": "code",
   "execution_count": null,
   "metadata": {},
   "outputs": [],
   "source": [
    "ocean_forcing_dir = r'/users/pvankatw/data/pvankatw/pvankatw-bfoxkemp/GHub-ISMIP6-Forcing/AIS/Ocean_Forcing/miroc-esm-chem_rcp8.5/1995-2100/'\n",
    "ocean_forcing_path = f\"{ocean_forcing_dir}/MIROC-ESM-CHEM_salinity_8km_x_60m.nc\"\n",
    "path = r\"/users/pvankatw/data/pvankatw/pvankatw-bfoxkemp/GHub-ISMIP6-Forcing/AIS/Atmosphere_Forcing/ccsm4_rcp2.6/Regridded_8km/CCSM4_8km_anomaly_rcp26_1995-2100.nc\"\n",
    "data = xr.open_dataset(path)\n",
    "data = data.drop(labels=['time', 'lon_bnds', 'lat_bnds', 'lat2d', 'lon2d'])"
   ]
  }
 ],
 "metadata": {
  "kernelspec": {
   "display_name": "Python 3.9.0 64-bit",
   "language": "python",
   "name": "python3"
  },
  "language_info": {
   "codemirror_mode": {
    "name": "ipython",
    "version": 3
   },
   "file_extension": ".py",
   "mimetype": "text/x-python",
   "name": "python",
   "nbconvert_exporter": "python",
   "pygments_lexer": "ipython3",
   "version": "3.9.0"
  },
  "vscode": {
   "interpreter": {
    "hash": "9908abda46ebea9c0e77257498ff5ae7e8c092b278e6e5c1af8736a9c630f7ce"
   }
  }
 },
 "nbformat": 4,
 "nbformat_minor": 2
}
