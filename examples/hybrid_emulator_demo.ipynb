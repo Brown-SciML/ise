{
 "cells": [
  {
   "cell_type": "markdown",
   "id": "a4a3f852",
   "metadata": {},
   "source": [
    "# Ice Sheet Emulator Demo"
   ]
  },
  {
   "cell_type": "markdown",
   "id": "e7ebd4e4",
   "metadata": {},
   "source": [
    "### Installation\n",
    "\n",
    "To install, run this is your terminal. This will create an environment, download ISE, and activate a jupyter notebook instance. Open up this notebook to run the model.  \n",
    "\n",
    "```conda create -n ise -y```  \n",
    "```conda activate ise```  \n",
    "```conda install nb_conda ipykernel -y```  \n",
    "```pip install git+https://github.com/Brown-SciML/ise```  \n",
    "```jupyter notebook```  "
   ]
  },
  {
   "cell_type": "code",
   "execution_count": 1,
   "id": "a13a05eb",
   "metadata": {},
   "outputs": [],
   "source": [
    "import numpy as np\n",
    "import os\n",
    "from sklearn.preprocessing import StandardScaler\n",
    "from ise.models.hybrid import HybridEmulator, DeepEnsemble, NormalizingFlow"
   ]
  },
  {
   "cell_type": "markdown",
   "id": "e10c62bd",
   "metadata": {},
   "source": [
    "### Synthetic Data and Scaling"
   ]
  },
  {
   "cell_type": "code",
   "execution_count": 2,
   "id": "a814d0bd",
   "metadata": {},
   "outputs": [],
   "source": [
    "X = np.array([[1,2,3], [4,5,6], [7,8,9]], dtype=int)\n",
    "y = np.array([[1], [2], [3],], dtype=int)\n",
    "\n",
    "scaler_X = StandardScaler().fit(X)\n",
    "scaler_y = StandardScaler().fit(y)\n",
    "X = scaler_X.transform(X)\n",
    "y = scaler_y.transform(y)"
   ]
  },
  {
   "cell_type": "markdown",
   "id": "82d34a80",
   "metadata": {},
   "source": [
    "### Create emulator Model\n",
    "Create the model with the Deep Ensemble as the Predictor and the Normalizing Flow as the uncertainty quantifier."
   ]
  },
  {
   "cell_type": "code",
   "execution_count": 3,
   "id": "0beb86de",
   "metadata": {},
   "outputs": [],
   "source": [
    "input_shape = X.shape[1]\n",
    "output_shape = y.shape[1]\n",
    "num_ensemble_members = 2\n",
    "\n",
    "predictor = DeepEnsemble(num_predictors=num_ensemble_members, forcing_size=input_shape, sle_size=output_shape)\n",
    "uncertainty_quantifier = NormalizingFlow(forcing_size=input_shape, sle_size=output_shape)\n",
    "emulator = HybridEmulator(deep_ensemble=predictor, normalizing_flow=uncertainty_quantifier)"
   ]
  },
  {
   "cell_type": "code",
   "execution_count": 4,
   "id": "bf7a5dc3",
   "metadata": {
    "scrolled": true
   },
   "outputs": [
    {
     "name": "stdout",
     "output_type": "stream",
     "text": [
      "\n",
      "Training Normalizing Flow (10 epochs):\n",
      "Epoch 1, Loss: 8.679369926452637\n",
      "Epoch 2, Loss: 8.459479331970215\n",
      "Epoch 3, Loss: 8.245292663574219\n",
      "Epoch 4, Loss: 8.0366849899292\n",
      "Epoch 5, Loss: 7.833608627319336\n",
      "Epoch 6, Loss: 7.636020183563232\n",
      "Epoch 7, Loss: 7.443871974945068\n",
      "Epoch 8, Loss: 7.257107257843018\n"
     ]
    },
    {
     "name": "stderr",
     "output_type": "stream",
     "text": [
      "C:\\Users\\pvank\\miniconda3\\envs\\ise\\Lib\\site-packages\\ise\\data\\dataclasses.py:33: UserWarning: Full projections of 86 timesteps are not present in the dataset. This may lead to unexpected behavior.\n",
      "  warnings.warn(\n"
     ]
    },
    {
     "name": "stdout",
     "output_type": "stream",
     "text": [
      "Epoch 9, Loss: 7.075656414031982\n",
      "Epoch 10, Loss: 6.899447917938232\n",
      "\n",
      "Training Deep Ensemble (15 epochs):\n",
      "Training Weak Predictor 1 of 2:\n",
      "Epoch 1, Average Batch Loss: 0.48592087626457214\n",
      "Epoch 2, Average Batch Loss: 0.48054543137550354\n",
      "Epoch 3, Average Batch Loss: 0.47530093789100647\n",
      "Epoch 4, Average Batch Loss: 0.46996942162513733\n",
      "Epoch 5, Average Batch Loss: 0.46499523520469666\n",
      "Epoch 6, Average Batch Loss: 0.45987486839294434\n",
      "Epoch 7, Average Batch Loss: 0.45409807562828064\n",
      "Epoch 8, Average Batch Loss: 0.4478793144226074\n",
      "Epoch 9, Average Batch Loss: 0.4412558078765869\n",
      "Epoch 10, Average Batch Loss: 0.43391919136047363\n",
      "Epoch 11, Average Batch Loss: 0.4259643256664276\n",
      "Epoch 12, Average Batch Loss: 0.4172305166721344\n",
      "Epoch 13, Average Batch Loss: 0.4077059328556061\n",
      "Epoch 14, Average Batch Loss: 0.39677444100379944\n",
      "Epoch 15, Average Batch Loss: 0.3842660188674927\n",
      "\n",
      "Training Weak Predictor 2 of 2:\n",
      "Epoch 1, Average Batch Loss: 0.8563575744628906\n",
      "Epoch 2, Average Batch Loss: 0.8397316932678223\n",
      "Epoch 3, Average Batch Loss: 0.8206830024719238\n",
      "Epoch 4, Average Batch Loss: 0.8127264976501465\n",
      "Epoch 5, Average Batch Loss: 0.8113299012184143\n",
      "Epoch 6, Average Batch Loss: 0.801367461681366\n",
      "Epoch 7, Average Batch Loss: 0.787761390209198\n",
      "Epoch 8, Average Batch Loss: 0.7849118113517761\n",
      "Epoch 9, Average Batch Loss: 0.7740277647972107\n",
      "Epoch 10, Average Batch Loss: 0.7498647570610046\n",
      "Epoch 11, Average Batch Loss: 0.7351357340812683\n",
      "Epoch 12, Average Batch Loss: 0.7103641629219055\n",
      "Epoch 13, Average Batch Loss: 0.669121503829956\n",
      "Epoch 14, Average Batch Loss: 0.6068329811096191\n",
      "Epoch 15, Average Batch Loss: 0.516370952129364\n",
      "\n"
     ]
    }
   ],
   "source": [
    "emulator.fit(X, y, nf_epochs=10, de_epochs=15)"
   ]
  },
  {
   "cell_type": "markdown",
   "id": "bd9173f8",
   "metadata": {},
   "source": [
    "### Predict on unseen data"
   ]
  },
  {
   "cell_type": "code",
   "execution_count": 5,
   "id": "46fd6b2c",
   "metadata": {},
   "outputs": [
    {
     "name": "stderr",
     "output_type": "stream",
     "text": [
      "C:\\Users\\pvank\\miniconda3\\envs\\ise\\Lib\\site-packages\\ise\\data\\dataclasses.py:33: UserWarning: Full projections of 86 timesteps are not present in the dataset. This may lead to unexpected behavior.\n",
      "  warnings.warn(\n"
     ]
    }
   ],
   "source": [
    "predictions, uncertainties = emulator.predict(scaler_X.transform(np.array([[10, 11, 12]])), output_scaler=scaler_y)"
   ]
  },
  {
   "cell_type": "code",
   "execution_count": 6,
   "id": "3dc0d4a4",
   "metadata": {},
   "outputs": [
    {
     "data": {
      "text/plain": [
       "array([[2.176648]], dtype=float32)"
      ]
     },
     "execution_count": 6,
     "metadata": {},
     "output_type": "execute_result"
    }
   ],
   "source": [
    "predictions"
   ]
  },
  {
   "cell_type": "code",
   "execution_count": 7,
   "id": "502382e4",
   "metadata": {
    "scrolled": true
   },
   "outputs": [
    {
     "data": {
      "text/plain": [
       "{'total': array([[6.5961537]], dtype=float32),\n",
       " 'epistemic': array([[0.00804853]], dtype=float32),\n",
       " 'aleatoric': array([[6.588105]], dtype=float32)}"
      ]
     },
     "execution_count": 7,
     "metadata": {},
     "output_type": "execute_result"
    }
   ],
   "source": [
    "uncertainties"
   ]
  },
  {
   "cell_type": "markdown",
   "id": "9fe04b92",
   "metadata": {},
   "source": [
    "### Save emulator and delete emulator variable"
   ]
  },
  {
   "cell_type": "code",
   "execution_count": 8,
   "id": "49e8c6bc",
   "metadata": {
    "scrolled": true
   },
   "outputs": [
    {
     "name": "stdout",
     "output_type": "stream",
     "text": [
      "Model metadata saved to ./saved_model//deep_ensemble_metadata.json\n",
      "Model parameters saved to ./saved_model//deep_ensemble.pth\n",
      "WeakPredictor 1 model parameters saved to ./saved_model\\weak_predictors\\weak_predictor_1.pth\n",
      "WeakPredictor 2 model parameters saved to ./saved_model\\weak_predictors\\weak_predictor_2.pth\n",
      "Model and metadata saved to ./saved_model//normalizing_flow.pth and ./saved_model//normalizing_flow.pth_metadata.json, respectively.\n"
     ]
    }
   ],
   "source": [
    "if not os.path.exists('./saved_model/'):\n",
    "    os.mkdir('./saved_model/')\n",
    "emulator.save(save_dir='./saved_model/')"
   ]
  },
  {
   "cell_type": "code",
   "execution_count": 9,
   "id": "b8d6ce98",
   "metadata": {},
   "outputs": [],
   "source": [
    "del emulator"
   ]
  },
  {
   "cell_type": "markdown",
   "id": "283b5d29",
   "metadata": {},
   "source": [
    "### Calculate total size of Emulator"
   ]
  },
  {
   "cell_type": "code",
   "execution_count": 10,
   "id": "efd1fd4c",
   "metadata": {},
   "outputs": [
    {
     "name": "stdout",
     "output_type": "stream",
     "text": [
      "Total size of saved Emulator in './saved_model/': 13.28 MB\n"
     ]
    }
   ],
   "source": [
    "import os\n",
    "\n",
    "def get_total_directory_size(directory):\n",
    "    total_size = 0\n",
    "    for dirpath, dirnames, filenames in os.walk(directory):\n",
    "        for f in filenames:\n",
    "            fp = os.path.join(dirpath, f)\n",
    "            total_size += os.path.getsize(fp)\n",
    "    return round(total_size / 1048576, 2)\n",
    "\n",
    "print(f\"Total size of saved Emulator in '{'./saved_model/'}': {get_total_directory_size('./saved_model/')} MB\")\n"
   ]
  },
  {
   "cell_type": "markdown",
   "id": "aa7da889",
   "metadata": {},
   "source": [
    "### Load model and predict to ensure parameters loaded correctly"
   ]
  },
  {
   "cell_type": "code",
   "execution_count": 11,
   "id": "6d5775a6",
   "metadata": {},
   "outputs": [],
   "source": [
    "emulator = HybridEmulator.load('./saved_model/')"
   ]
  },
  {
   "cell_type": "code",
   "execution_count": 12,
   "id": "5bdcc646",
   "metadata": {},
   "outputs": [
    {
     "name": "stderr",
     "output_type": "stream",
     "text": [
      "C:\\Users\\pvank\\miniconda3\\envs\\ise\\Lib\\site-packages\\ise\\data\\dataclasses.py:33: UserWarning: Full projections of 86 timesteps are not present in the dataset. This may lead to unexpected behavior.\n",
      "  warnings.warn(\n"
     ]
    }
   ],
   "source": [
    "predictions, uncertainties = emulator.predict(scaler_X.transform(np.array([[10, 11, 12]])), output_scaler=scaler_y)"
   ]
  },
  {
   "cell_type": "code",
   "execution_count": 13,
   "id": "79810ee3",
   "metadata": {},
   "outputs": [
    {
     "data": {
      "text/plain": [
       "array([[2.176648]], dtype=float32)"
      ]
     },
     "execution_count": 13,
     "metadata": {},
     "output_type": "execute_result"
    }
   ],
   "source": [
    "predictions"
   ]
  },
  {
   "cell_type": "code",
   "execution_count": 14,
   "id": "11181e44",
   "metadata": {},
   "outputs": [
    {
     "data": {
      "text/plain": [
       "{'total': array([[7.313538]], dtype=float32),\n",
       " 'epistemic': array([[0.00804853]], dtype=float32),\n",
       " 'aleatoric': array([[7.3054895]], dtype=float32)}"
      ]
     },
     "execution_count": 14,
     "metadata": {},
     "output_type": "execute_result"
    }
   ],
   "source": [
    "uncertainties"
   ]
  }
 ],
 "metadata": {
  "kernelspec": {
   "display_name": "Python [conda env:ise] *",
   "language": "python",
   "name": "conda-env-ise-py"
  },
  "language_info": {
   "codemirror_mode": {
    "name": "ipython",
    "version": 3
   },
   "file_extension": ".py",
   "mimetype": "text/x-python",
   "name": "python",
   "nbconvert_exporter": "python",
   "pygments_lexer": "ipython3",
   "version": "3.11.8"
  }
 },
 "nbformat": 4,
 "nbformat_minor": 5
}
